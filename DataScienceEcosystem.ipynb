{
 "cells": [
  {
   "cell_type": "markdown",
   "id": "3cd1efc5-5cf5-47e4-bd74-a34fc5925b58",
   "metadata": {},
   "source": [
    "# Data Science Tools and Ecosystem\n"
   ]
  },
  {
   "cell_type": "markdown",
   "id": "179c0d1d-00fb-4486-a15f-e0b86a2d0c1f",
   "metadata": {},
   "source": [
    "In this notebook, Data Science Tools and Ecosystem are summarized."
   ]
  },
  {
   "cell_type": "markdown",
   "id": "b041bea3-c407-4f20-ba02-a5837f4888c9",
   "metadata": {},
   "source": [
    "**Objectives:**"
   ]
  },
  {
   "cell_type": "markdown",
   "id": "250c3e2f-5f12-4b7f-a557-e144d852d94f",
   "metadata": {},
   "source": [
    "* List popular languages that Data Scientists use \n",
    "* List of commonly used libraries used by Data Scientists\n",
    "* List of Open_source_tools\n"
   ]
  },
  {
   "cell_type": "markdown",
   "id": "68724e4b-79f8-48dc-a2a7-feb95331fba7",
   "metadata": {},
   "source": [
    "## Author\n",
    "Vedhika M"
   ]
  },
  {
   "cell_type": "markdown",
   "id": "833bfbc6-9bb7-4cdd-bdf3-aa858e80001a",
   "metadata": {},
   "source": [
    "Some of the popular languages that Data Scientists use are:"
   ]
  },
  {
   "cell_type": "markdown",
   "id": "ad2f98a1-2e9c-4a5d-943d-eb1d42ba6924",
   "metadata": {},
   "source": [
    "1. Python\n",
    "2. R\n",
    "3. scala"
   ]
  },
  {
   "cell_type": "markdown",
   "id": "6972dcda-24f1-41e4-ac8a-d5a37d7b9d7e",
   "metadata": {},
   "source": [
    "Some of the commonly used libraries used by Data Scientists include:"
   ]
  },
  {
   "cell_type": "markdown",
   "id": "6d91876e-e009-4e76-be22-bee4409298bd",
   "metadata": {},
   "source": [
    "* Pandas\n",
    "* Numpy\n",
    "* Seaborn"
   ]
  },
  {
   "cell_type": "markdown",
   "id": "a8c16eac-c94b-49b5-a057-3f3ecddd9c61",
   "metadata": {},
   "source": [
    "|Open_source_tools|\n",
    "|:--------------------:|\n",
    "|Data Science Tools|\n",
    "|Anaconda|\n",
    "|Pycharm|\n",
    "|Flask|\n"
   ]
  },
  {
   "cell_type": "markdown",
   "id": "f593b4aa-e9cf-46c0-b244-558baa4241ac",
   "metadata": {},
   "source": [
    "### Below are a few examples of evaluating arithmetic expressions in Python"
   ]
  },
  {
   "cell_type": "code",
   "execution_count": 3,
   "id": "d4780d4c-456b-4da5-9af9-1b28ef1b3985",
   "metadata": {},
   "outputs": [
    {
     "data": {
      "text/plain": [
       "17"
      ]
     },
     "execution_count": 3,
     "metadata": {},
     "output_type": "execute_result"
    }
   ],
   "source": [
    "#This a simple arithmetic expression to mutiply then add integers\n",
    "(3*4)+5"
   ]
  },
  {
   "cell_type": "code",
   "execution_count": 4,
   "id": "786aac52-3166-48e2-8a20-785dd0936b91",
   "metadata": {},
   "outputs": [
    {
     "data": {
      "text/plain": [
       "3.3333333333333335"
      ]
     },
     "execution_count": 4,
     "metadata": {},
     "output_type": "execute_result"
    }
   ],
   "source": [
    "#This will convert 200 minutes to hours by diving by 60\n",
    "(200/60)"
   ]
  },
  {
   "cell_type": "code",
   "execution_count": null,
   "id": "9c68009d-8b3f-4928-8ac0-e252d72b4ee9",
   "metadata": {},
   "outputs": [],
   "source": []
  }
 ],
 "metadata": {
  "kernelspec": {
   "display_name": "Python 3 (ipykernel)",
   "language": "python",
   "name": "python3"
  },
  "language_info": {
   "codemirror_mode": {
    "name": "ipython",
    "version": 3
   },
   "file_extension": ".py",
   "mimetype": "text/x-python",
   "name": "python",
   "nbconvert_exporter": "python",
   "pygments_lexer": "ipython3",
   "version": "3.11.7"
  }
 },
 "nbformat": 4,
 "nbformat_minor": 5
}
